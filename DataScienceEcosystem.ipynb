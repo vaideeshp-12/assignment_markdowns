{
 "cells": [
  {
   "cell_type": "markdown",
   "id": "6128595c-efca-47e6-9fe2-2c97eca3da6e",
   "metadata": {},
   "source": [
    "# Data Science Tools and Ecosystem"
   ]
  },
  {
   "cell_type": "markdown",
   "id": "80402aac-6f25-4a3b-904c-5b119386edeb",
   "metadata": {},
   "source": [
    "In this notebook, Data Science Tools and Ecosystem are summarized."
   ]
  },
  {
   "cell_type": "markdown",
   "id": "fa61cb0d-8a82-4be1-a157-44120fae363b",
   "metadata": {},
   "source": [
    "**Objectives**"
   ]
  },
  {
   "cell_type": "markdown",
   "id": "a759f201-2f3d-4251-aa3a-70b49a1762af",
   "metadata": {
    "tags": []
   },
   "source": [
    "-List popular data science languages\n",
    "-List popular data science libraries\n",
    "-Perform simple arithmetic operations"
   ]
  },
  {
   "cell_type": "markdown",
   "id": "eb7d0349-56e3-48d8-93d9-f6c5857368a5",
   "metadata": {},
   "source": [
    "Some of the popular languages that Data Scientists use are:\n",
    "1.Python\n",
    "2.R\n",
    "3.Julia"
   ]
  },
  {
   "cell_type": "markdown",
   "id": "e2129557-adf8-4565-9fc4-68dde033a98b",
   "metadata": {},
   "source": [
    "Some of the commonly used libraries used by Data Scientists include:\n",
    "1.Numpy\n",
    "2.Pandas\n",
    "3.Scikit-learn"
   ]
  },
  {
   "cell_type": "markdown",
   "id": "2046f375-bd07-499f-9a6b-368328918352",
   "metadata": {},
   "source": [
    "|Data Science Tools|\n",
    "|------------------|\n",
    "|R Studio|\n",
    "|Jupyter Lab|\n",
    "|Spyder|"
   ]
  },
  {
   "cell_type": "markdown",
   "id": "dfb4b986-8c2b-414e-9b7f-3b6740f6ba2c",
   "metadata": {},
   "source": [
    "### Below are a few examples of evaluating arithmetic expressions in Python"
   ]
  },
  {
   "cell_type": "code",
   "execution_count": 2,
   "id": "b285c8ab-9ae9-47d8-9cb4-2e89e539f6f8",
   "metadata": {
    "tags": []
   },
   "outputs": [
    {
     "data": {
      "text/plain": [
       "17"
      ]
     },
     "execution_count": 2,
     "metadata": {},
     "output_type": "execute_result"
    }
   ],
   "source": [
    "#This a simple arithmetic expression to mutiply then add integers\n",
    "(3*4)+5"
   ]
  },
  {
   "cell_type": "code",
   "execution_count": 3,
   "id": "5c8da1ee-6d8d-4ad0-8577-1aa85a9ffbca",
   "metadata": {
    "tags": []
   },
   "outputs": [
    {
     "data": {
      "text/plain": [
       "3.3333333333333335"
      ]
     },
     "execution_count": 3,
     "metadata": {},
     "output_type": "execute_result"
    }
   ],
   "source": [
    "#This will convert 200 minutes to hours by diving by 60\n",
    "200/60"
   ]
  },
  {
   "cell_type": "markdown",
   "id": "fcbbf5a2-b204-433f-ab0f-3207511c4a21",
   "metadata": {},
   "source": [
    "## Author\n",
    "Vaideesh"
   ]
  },
  {
   "cell_type": "code",
   "execution_count": null,
   "id": "8d1d6595-b2c2-455b-a443-c209bf520c34",
   "metadata": {},
   "outputs": [],
   "source": []
  }
 ],
 "metadata": {
  "kernelspec": {
   "display_name": "Python",
   "language": "python",
   "name": "conda-env-python-py"
  },
  "language_info": {
   "codemirror_mode": {
    "name": "ipython",
    "version": 3
   },
   "file_extension": ".py",
   "mimetype": "text/x-python",
   "name": "python",
   "nbconvert_exporter": "python",
   "pygments_lexer": "ipython3",
   "version": "3.7.12"
  }
 },
 "nbformat": 4,
 "nbformat_minor": 5
}
